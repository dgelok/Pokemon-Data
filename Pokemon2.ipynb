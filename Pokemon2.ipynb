{
 "cells": [
  {
   "cell_type": "code",
   "execution_count": 14,
   "metadata": {},
   "outputs": [],
   "source": [
    "import pandas as pd\n",
    "\n",
    "import matplotlib.pyplot as plt\n",
    "\n",
    "db = pd.read_csv('pokemon_data.csv')\n",
    "\n",
    "alphaDB = db.sort_values('Name')\n",
    "\n",
    "finalDB = alphaDB[['Name', 'HP', 'Attack']].reset_index(drop=True)\n",
    "\n",
    "finalDB.to_excel(\"Pokemon_alpha.xlsx\")\n",
    "\n"
   ]
  },
  {
   "cell_type": "code",
   "execution_count": 22,
   "metadata": {},
   "outputs": [],
   "source": [
    "specAtkDB = db.sort_values(['Sp. Atk'], ascending=False).reset_index(drop=True)\n",
    "\n",
    "\n",
    "\n",
    "final = specAtkDB[0:15].reset_index(drop=True)\n",
    "\n",
    "final.to_excel('Top Special Attacks.xlsx')"
   ]
  },
  {
   "cell_type": "code",
   "execution_count": 36,
   "metadata": {},
   "outputs": [],
   "source": [
    "db['BigNum'] = db['Sp. Atk'] + db['Defense']\n",
    "\n",
    "defAndAtk = db.sort_values(['BigNum'], ascending=False)[0:2].reset_index()\n",
    "\n",
    "defAndAtk.to_excel('3 strongest defense w strongest special attack.xlsx')\n"
   ]
  },
  {
   "cell_type": "code",
   "execution_count": 44,
   "metadata": {},
   "outputs": [],
   "source": [
    "db.drop(['BigNum'], axis=1)\n",
    "\n",
    "# df.loc[df['Name'].str.contains(\"^pi[a-z]*\", flags=re.I, regex=True)]\n",
    "containsADI = db.loc[db['Name'].str.contains('adi')].reset_index()\n",
    "\n",
    "containsADI.to_excel('4 contains adi in the name.xlsx')"
   ]
  },
  {
   "cell_type": "code",
   "execution_count": 57,
   "metadata": {},
   "outputs": [],
   "source": [
    "import re\n",
    "\n",
    "smallDB = db.loc[~db['Name'].str.contains('mega', flags=re.I)].reset_index()\n",
    "\n",
    "smallDB['total'] = smallDB['HP'] + smallDB['Attack'] + smallDB['Defense'] + smallDB['Sp. Atk'] + smallDB['Sp. Def'] + smallDB['Speed']\n",
    "\n",
    "pseudos = smallDB.loc[smallDB['total'] == 600].reset_index()\n",
    "\n",
    "pseudos.to_excel('5 pseudo legendaries.xlsx')\n"
   ]
  },
  {
   "cell_type": "code",
   "execution_count": 65,
   "metadata": {},
   "outputs": [],
   "source": [
    "db.drop(['BigNum'], axis=1)\n",
    "\n",
    "grass = db.loc[db['Type 1'] == 'Grass']\n",
    "\n",
    "grassAttack = grass.sort_values(['Attack'], ascending=False)[:10]\n",
    "\n",
    "grassAttack[['Name', 'Type 1', 'Type 2', 'Attack', 'Generation']].to_excel('6 strong grass type attack.xlsx')"
   ]
  },
  {
   "cell_type": "code",
   "execution_count": 90,
   "metadata": {},
   "outputs": [],
   "source": [
    "db = pd.read_csv('pokemon_data.csv')\n",
    "# db[0:7]\n",
    "twoTypes = db.loc[~db['Type 2'].isnull()].reset_index(drop=True)\n",
    "\n",
    "twoTypes.to_excel('7 two type pokemon.xlsx')\n"
   ]
  },
  {
   "cell_type": "code",
   "execution_count": null,
   "metadata": {},
   "outputs": [],
   "source": []
  }
 ],
 "metadata": {
  "kernelspec": {
   "display_name": "Python 3",
   "language": "python",
   "name": "python3"
  },
  "language_info": {
   "codemirror_mode": {
    "name": "ipython",
    "version": 3
   },
   "file_extension": ".py",
   "mimetype": "text/x-python",
   "name": "python",
   "nbconvert_exporter": "python",
   "pygments_lexer": "ipython3",
   "version": "3.8.3"
  }
 },
 "nbformat": 4,
 "nbformat_minor": 4
}
